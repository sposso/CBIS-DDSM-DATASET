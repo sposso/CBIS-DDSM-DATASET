{
 "cells": [
  {
   "cell_type": "code",
   "execution_count": 12,
   "metadata": {},
   "outputs": [],
   "source": [
    "import numpy as np\n",
    "import matplotlib.pyplot as plt\n",
    "import pydicom \n",
    "import png\n",
    "from imageio import imread\n",
    "from wand.image import Image\n",
    "import pandas as pd\n",
    "import time\n",
    "import cv2"
   ]
  },
  {
   "cell_type": "code",
   "execution_count": 3,
   "metadata": {},
   "outputs": [],
   "source": [
    "def save_dicom_image_as_png(dicom_filename, png_filename, bitdepth=16):\n",
    "    \"\"\"\n",
    "    Save 16-bit mammogram from dicom as rescaled 16-bit png file.\n",
    "    :param dicom_filename: path to input dicom file.\n",
    "    :param png_filename: path to output png file.\n",
    "    :param bitdepth: bit depth of the input image. Set it to 12 for 12-bit mammograms.\n",
    "                     Set to 16 for 16-bit mammograms, etc.\n",
    "                     Make sure you are using correct bitdepth!\n",
    "    \"\"\"\n",
    "    image = pydicom.read_file(dicom_filename).pixel_array\n",
    "    #Resize the mammograms to the resolution you wish. \n",
    "    image = cv2.resize(image, dsize =(896,1152), interpolation = cv2.INTER_CUBIC)\n",
    "    with open(png_filename, 'wb') as f:\n",
    "        writer = png.Writer(\n",
    "            height=image.shape[0],\n",
    "            width=image.shape[1],\n",
    "            bitdepth=bitdepth,\n",
    "            greyscale=True\n",
    "        )\n",
    "        writer.write(f, image.tolist())\n",
    "        \n",
    "        print(\"done!\")"
   ]
  }
 ],
 "metadata": {
  "kernelspec": {
   "display_name": "Python 3",
   "language": "python",
   "name": "python3"
  },
  "language_info": {
   "codemirror_mode": {
    "name": "ipython",
    "version": 3
   },
   "file_extension": ".py",
   "mimetype": "text/x-python",
   "name": "python",
   "nbconvert_exporter": "python",
   "pygments_lexer": "ipython3",
   "version": "3.7.6"
  }
 },
 "nbformat": 4,
 "nbformat_minor": 5
}
