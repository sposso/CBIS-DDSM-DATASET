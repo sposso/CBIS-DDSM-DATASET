{
 "cells": [
  {
   "cell_type": "code",
   "execution_count": 1,
   "metadata": {},
   "outputs": [],
   "source": [
    "import os \n",
    "import pandas as pd \n",
    "import pydicom as dicom\n",
    "import matplotlib.pyplot as plt\n"
   ]
  },
  {
   "cell_type": "code",
   "execution_count": 2,
   "metadata": {},
   "outputs": [],
   "source": [
    "#This function is made based on the code devolepd by Adam Jaamour in \n",
    "#https://github.com/Adamouization/Breast-Cancer-Detection-Mammogram-Deep-Learning\n",
    "def mammograms_retrieval():\n",
    "    \n",
    "    \n",
    "    \"\"\"\n",
    "    This function retrieves the path of all mammograms (3103) in the CBIS-DDSM.\n",
    "    You need to import the original csv files from \n",
    "    \"https://wiki.cancerimagingarchive.net/pages/viewpage.action?pageId=22516629\".\n",
    "    This  function outputs 4 csv files.Each csv file include the following columns:\n",
    "    img id. Corresponds to the folder name where the mask is located. \n",
    "    img_path: Image path on your local machine.\n",
    "    label: Image pathology (Benign or Malignant). BENIGN-WHITOUT-CALLBACK is replaced to Benign. \n",
    "    \n",
    "    \"\"\"\n",
    "    #Path of folder that contains mammograms\n",
    "    img_root = '/home/sposso22/Desktop/Breast_Cancer/CBIS-DDSM'\n",
    "    #Path of folder that contains csv files.\n",
    "    csv_root = '/home/sposso22/Desktop/DATA_REVIEW/original_csv_files'\n",
    "    #Folder where you want to save the new csv files that will contain the  local paths of the mammograms\n",
    "    csv_output_path = '/home/sposso22/Desktop/DATA_REVIEW/final_Full_mam_csv_files'\n",
    "    folders = os.listdir(img_root)\n",
    "    cases_dict = dict()  # save image id and path\n",
    "    \n",
    "    \n",
    "    for f in folders:\n",
    "        if f.endswith('_CC') or f.endswith('_MLO'):  # filter out the cropped images\n",
    "            path = list()\n",
    "\n",
    "            for root, dirs, files in os.walk(img_root + '/' + f):  # retrieve the path of image\n",
    "                for d in dirs:\n",
    "                    path.append(d)\n",
    "                for filename in files:\n",
    "                    path.append(filename)\n",
    "\n",
    "            img_path = img_root + '/' + f + '/' + '/'.join(path)  # generate image path\n",
    "            cases_dict[f] = img_path\n",
    "            \n",
    "    df = pd.DataFrame(list(cases_dict.items()), columns=['img', 'img_path']) \n",
    "    \n",
    "    type_dict = {'Calc-Test': 'calc_case_description_test_set.csv',\n",
    "                 'Calc-Training': 'calc_case_description_train_set.csv',\n",
    "                 'Mass-Test': 'mass_case_description_test_set.csv',\n",
    "                 'Mass-Training': 'mass_case_description_train_set.csv'}\n",
    "\n",
    "    for t in type_dict.keys():  # handle images based on the type\n",
    "            df_subset = df[df['img'].str.startswith(t)]\n",
    "\n",
    "            df_csv = pd.read_csv(csv_root + '/' + type_dict[t],\n",
    "                                 usecols=['pathology', 'image file path'])  # read original csv file\n",
    "            df_csv['img'] = df_csv.apply(lambda row: row['image file path'].split('/')[0],\n",
    "                                         axis=1)  # extract image id from the path\n",
    "            df_csv['pathology'] = df_csv.apply(\n",
    "                lambda row: 'BENIGN' if row['pathology'] == 'BENIGN_WITHOUT_CALLBACK' else row['pathology'],\n",
    "                axis=1)  # replace pathology 'BENIGN_WITHOUT_CALLBACK' to 'BENIGN'\n",
    "\n",
    "            df_csv = df_csv.drop_duplicates(subset=[\"img\"]) # Remove duplicate mammograms (orginal csv files assign mammograms with multi abnoramlities to different masks)\n",
    "\n",
    "            df_subset_new = pd.merge(df_subset, df_csv, how='inner',\n",
    "                                     on='img') #merge images path and pathology on img id. \n",
    "\n",
    "\n",
    "            df_subset_new = df_subset_new.drop(columns=[\"image file path\"])\n",
    "\n",
    "            df_subset_new.to_csv(csv_output_path + '/' + t.lower() + '.csv',\n",
    "                                 index=False)  # output merged dataframe in csv format\n",
    "\n",
    "            print(t)\n",
    "            print('data_cnt: %d' % len(df_subset_new))\n",
    "            \n",
    "    print('Finished retrieval of mammogram paths!')"
   ]
  },
  {
   "cell_type": "code",
   "execution_count": 3,
   "metadata": {},
   "outputs": [
    {
     "name": "stdout",
     "output_type": "stream",
     "text": [
      "Calc-Test\n",
      "data_cnt: 284\n",
      "Calc-Training\n",
      "data_cnt: 1227\n",
      "Mass-Test\n",
      "data_cnt: 361\n",
      "Mass-Training\n",
      "data_cnt: 1231\n",
      "Finished retrieval of mammogram paths!\n"
     ]
    }
   ],
   "source": [
    "mammograms_retrieval()"
   ]
  },
  {
   "cell_type": "code",
   "execution_count": null,
   "metadata": {},
   "outputs": [],
   "source": []
  }
 ],
 "metadata": {
  "kernelspec": {
   "display_name": "Python 3",
   "language": "python",
   "name": "python3"
  },
  "language_info": {
   "codemirror_mode": {
    "name": "ipython",
    "version": 3
   },
   "file_extension": ".py",
   "mimetype": "text/x-python",
   "name": "python",
   "nbconvert_exporter": "python",
   "pygments_lexer": "ipython3",
   "version": "3.7.6"
  }
 },
 "nbformat": 4,
 "nbformat_minor": 5
}
