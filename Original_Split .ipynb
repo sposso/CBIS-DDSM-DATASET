{
 "cells": [
  {
   "cell_type": "code",
   "execution_count": 42,
   "id": "d663b02d",
   "metadata": {},
   "outputs": [],
   "source": [
    "import pandas as pd \n"
   ]
  },
  {
   "cell_type": "code",
   "execution_count": 43,
   "id": "616bb9b1",
   "metadata": {},
   "outputs": [],
   "source": [
    "csv_mask_path = '/home/sposso22/Desktop/DATA_REVIEW/final_MASK_csv_files'\n",
    "csv_mam_path = '/home/sposso22/Desktop/DATA_REVIEW/final_Full_mam_csv_files'\n",
    "files = {'Mam_Set':csv_mam_path,'Mask_Set':csv_mask_path}\n",
    "type_dict = ['Calc-Training','Mass-Training']\n",
    "\n",
    "\n",
    "final_dfs =dict()\n",
    "for path in files.keys():\n",
    "    dfs=[]\n",
    "    for i in type_dict:\n",
    "\n",
    "\n",
    "        data = pd.read_csv(files[path]+'/'+i.lower()+'.csv')\n",
    "        data = data.rename(columns={\"pathology\": \"label\"})\n",
    "\n",
    "\n",
    "        if i.startswith(\"Calc\"):\n",
    "\n",
    "            labels = {\"MALIGNANT\":1 , \"BENIGN\":2}\n",
    "            data[\"label\"]= data.label.map(labels)\n",
    "\n",
    "        else:\n",
    "\n",
    "            labels = {\"MALIGNANT\":3 , \"BENIGN\":4}  \n",
    "            data[\"label\"]= data.label.map(labels)\n",
    "\n",
    " \n",
    "\n",
    "        dfs.append(data)\n",
    "\n",
    "    final_df = pd.concat(dfs)\n",
    "    \n",
    "    final_dfs[path] = final_df"
   ]
  },
  {
   "cell_type": "code",
   "execution_count": 45,
   "id": "88b92eff",
   "metadata": {},
   "outputs": [],
   "source": [
    "mam_df = final_dfs['Mam_Set'].reset_index(drop= True)\n",
    "final_mam_df = mam_df.drop(columns=[\"img\"])\n",
    "final_mam_df.to_csv(csv_mam_path+'/'+'official_mam_train_set.csv',index = False)\n",
    "#Rename Columns \n",
    "mam_df = mam_df.rename(columns={\"img\": \"merge\",\"label\":\"label_mam\"})\n",
    "#Reset index \n",
    "mask_df =final_dfs['Mask_Set'].reset_index(drop= True)\n",
    "#Generate  a new column in the mask dataframe with the original names of mammograms. \n",
    "#This columns  is equal to the  \"img\" column of the mammogram dataframe\n",
    "mask_df['merge'] = mask_df.apply(lambda row: row['img'][:-2],\n",
    "                                         axis=1) \n",
    "#Use the column created  in the previous line to match the mammograms paths with the mask paths\n",
    "new_mask_df = pd.merge(mask_df, mam_df, how='inner',\n",
    "                                     on='merge')\n",
    "\n",
    "#Remove useless columns \n",
    "new_mask_df = new_mask_df.drop(columns=[\"img\",\"merge\",\"label_mam\"])\n",
    "#Change the order of columns \n",
    "new_mask_df = new_mask_df.iloc[:,[2,0,1]]\n",
    "new_mask_df.to_csv(\"official_mask_train_set.csv\",index=False)"
   ]
  },
  {
   "cell_type": "code",
   "execution_count": null,
   "id": "e2f54fa4",
   "metadata": {},
   "outputs": [],
   "source": []
  }
 ],
 "metadata": {
  "kernelspec": {
   "display_name": "breast-env",
   "language": "python",
   "name": "breast-env"
  },
  "language_info": {
   "codemirror_mode": {
    "name": "ipython",
    "version": 3
   },
   "file_extension": ".py",
   "mimetype": "text/x-python",
   "name": "python",
   "nbconvert_exporter": "python",
   "pygments_lexer": "ipython3",
   "version": "3.8.10"
  }
 },
 "nbformat": 4,
 "nbformat_minor": 5
}
